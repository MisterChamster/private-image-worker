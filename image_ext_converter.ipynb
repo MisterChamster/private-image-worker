{
 "cells": [
  {
   "cell_type": "code",
   "execution_count": 6,
   "metadata": {},
   "outputs": [],
   "source": [
    "import os\n",
    "from PIL import Image\n",
    "import pillow_heif"
   ]
  },
  {
   "cell_type": "code",
   "execution_count": 7,
   "metadata": {},
   "outputs": [],
   "source": [
    "directory = r\"c:\\Users\\root\\Desktop\\helo\"\n",
    "os.chdir(directory)"
   ]
  },
  {
   "cell_type": "code",
   "execution_count": null,
   "metadata": {},
   "outputs": [],
   "source": [
    "def HEICtoPNG_no_del(directory):\n",
    "    # heic to png no deletion\n",
    "    for filename in os.listdir(directory):\n",
    "        # check if the file is in HEIC format\n",
    "        if filename.lower().endswith(\".heic\"):\n",
    "            # create an Image object from the HEIC file\n",
    "            filepath = os.path.join(directory, filename)\n",
    "            print(\"Converting:\", filename)\n",
    "            heif_file = pillow_heif.read_heif(filepath)\n",
    "            image = Image.frombytes(\n",
    "                heif_file.mode,\n",
    "                heif_file.size,\n",
    "                heif_file.data,\n",
    "                \"raw\",\n",
    "            )\n",
    "\n",
    "            # create a new filename for the PNG file\n",
    "            new_filename = os.path.splitext(filename)[0] + \".png\"\n",
    "            new_filepath = os.path.join(directory, new_filename)\n",
    "\n",
    "            image.save(new_filepath, format(\"png\"))\n",
    "\n",
    "HEICtoPNG_no_del(directory)"
   ]
  },
  {
   "cell_type": "code",
   "execution_count": null,
   "metadata": {},
   "outputs": [],
   "source": [
    "def HEICtoPNG_del(directory):\n",
    "    # heic to png deletion\n",
    "    for filename in os.listdir(directory):\n",
    "        # check if the file is in HEIC format\n",
    "        if filename.lower().endswith(\".heic\"):\n",
    "            # create an Image object from the HEIC file\n",
    "            filepath = os.path.join(directory, filename)\n",
    "            print(\"Converting:\", filename)\n",
    "            heif_file = pillow_heif.read_heif(filepath)\n",
    "            image = Image.frombytes(\n",
    "                heif_file.mode,\n",
    "                heif_file.size,\n",
    "                heif_file.data,\n",
    "                \"raw\",\n",
    "            )\n",
    "\n",
    "            # create a new filename for the PNG file\n",
    "            new_filename = os.path.splitext(filename)[0] + \".png\"\n",
    "            new_filepath = os.path.join(directory, new_filename)\n",
    "            try:\n",
    "                os.remove(filename)\n",
    "            except:\n",
    "                print(\"Couldn't remove \" + filename)\n",
    "\n",
    "            image.save(new_filepath, format(\"png\"))\n",
    "\n",
    "\n",
    "HEICtoPNG_del(directory)"
   ]
  },
  {
   "cell_type": "code",
   "execution_count": null,
   "metadata": {},
   "outputs": [],
   "source": [
    "def PNGtoJPG_no_del(directory):\n",
    "    # png to jpg no deletion\n",
    "    for filename in os.listdir(directory):\n",
    "        if filename.lower().endswith(\".png\"):\n",
    "            png_image = Image.open(filename)\n",
    "            print(\"Converting:\", filename)\n",
    "            rgb_image = png_image.convert(\"RGB\")\n",
    "            new_filename = os.path.splitext(filename)[0] + \".jpg\"\n",
    "            rgb_image.save(new_filename, \"JPEG\")\n",
    "\n",
    "PNGtoJPG_no_del(directory)"
   ]
  },
  {
   "cell_type": "code",
   "execution_count": null,
   "metadata": {},
   "outputs": [],
   "source": [
    "def PNGtoJPG_del(directory):\n",
    "    # png to jpg deletion\n",
    "    for filename in os.listdir(directory):\n",
    "        if filename.lower().endswith(\".png\"):\n",
    "            png_image = Image.open(filename)\n",
    "            print(\"Converting:\", filename)\n",
    "            rgb_image = png_image.convert(\"RGB\")\n",
    "            new_filename = os.path.splitext(filename)[0] + \".jpg\"\n",
    "            rgb_image.save(new_filename, \"JPEG\")\n",
    "\n",
    "            try:\n",
    "                os.remove(filename)\n",
    "            except:\n",
    "                print(\"Couldn't remove \" + filename)\n",
    "\n",
    "PNGtoJPG_del(directory)"
   ]
  }
 ],
 "metadata": {
  "kernelspec": {
   "display_name": "Python 3",
   "language": "python",
   "name": "python3"
  },
  "language_info": {
   "codemirror_mode": {
    "name": "ipython",
    "version": 3
   },
   "file_extension": ".py",
   "mimetype": "text/x-python",
   "name": "python",
   "nbconvert_exporter": "python",
   "pygments_lexer": "ipython3",
   "version": "3.13.1"
  }
 },
 "nbformat": 4,
 "nbformat_minor": 2
}
