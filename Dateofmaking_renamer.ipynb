{
 "cells": [
  {
   "cell_type": "code",
   "execution_count": null,
   "metadata": {},
   "outputs": [],
   "source": [
    "directory = r\"c:\\Users\\root\\Desktop\\helo\""
   ]
  },
  {
   "cell_type": "code",
   "execution_count": 32,
   "metadata": {},
   "outputs": [
    {
     "name": "stdout",
     "output_type": "stream",
     "text": [
      "20161101_083540.jpg: IMG_20161101_083540\n",
      "20161101_083610.jpg: IMG_20161101_083610\n",
      "20161101_083633.jpg: IMG_20161101_083633\n",
      "20161101_083636.jpg: IMG_20161101_083636\n",
      "20161101_083639.jpg: IMG_20161101_083639\n",
      "20161101_083642.jpg: IMG_20161101_083642\n"
     ]
    }
   ],
   "source": [
    "from PIL import Image\n",
    "from PIL.ExifTags import TAGS\n",
    "import os\n",
    "from datetime import datetime\n",
    "\n",
    "def get_image_date(image_path):\n",
    "    \"\"\"Wydobywa datę wykonania obrazu z metadanych EXIF.\"\"\"\n",
    "    try:\n",
    "        with Image.open(image_path) as img:\n",
    "            exif_data = img._getexif()\n",
    "            if exif_data:\n",
    "                for tag, value in exif_data.items():\n",
    "                    tag_name = TAGS.get(tag, tag)\n",
    "                    if tag_name == \"DateTime\":  # Data wykonania obrazu\n",
    "                        return value\n",
    "    except Exception as e:\n",
    "        print(f\"Błąd podczas odczytu {image_path}: {e}\")\n",
    "    return \"Brak daty\"\n",
    "\n",
    "def format_date(date_string):\n",
    "    \"\"\"Formatuje datę na IMG_[Y][M][D]_[H][M][S].\"\"\"\n",
    "    try:\n",
    "        dt = datetime.strptime(date_string, \"%Y:%m:%d %H:%M:%S\")\n",
    "        return dt.strftime(\"IMG_%Y%m%d_%H%M%S\")\n",
    "    except ValueError:\n",
    "        return \"Niepoprawna data\"\n",
    "\n",
    "def list_images_with_dates(directory):\n",
    "    \"\"\"Wypisuje wszystkie obrazy w katalogu wraz z datami ich wykonania w formacie IMG_[Y][M][D]_[H][M][S].\"\"\"\n",
    "    valid_extensions = ('.jpg', '.jpeg', '.png', '.tiff', '.heic')\n",
    "    \n",
    "    for filename in os.listdir(directory):\n",
    "        if filename.lower().endswith(valid_extensions):\n",
    "            image_path = os.path.join(directory, filename)\n",
    "            date_created = get_image_date(image_path)\n",
    "            formatted_date = format_date(date_created) if date_created != \"Brak daty\" else date_created\n",
    "            print(f\"{filename}: {formatted_date}\")\n",
    "\n",
    "if __name__ == \"__main__\":\n",
    "    if os.path.exists(directory):\n",
    "        list_images_with_dates(directory)\n",
    "    else:\n",
    "        print(\"Nieprawidłowy katalog!\")\n"
   ]
  },
  {
   "cell_type": "code",
   "execution_count": 33,
   "metadata": {},
   "outputs": [
    {
     "name": "stdout",
     "output_type": "stream",
     "text": [
      "Renamed: 20161101_083540.jpg -> IMG_20161101_083540.jpg\n",
      "Renamed: 20161101_083610.jpg -> IMG_20161101_083610.jpg\n",
      "Renamed: 20161101_083633.jpg -> IMG_20161101_083633.jpg\n",
      "Renamed: 20161101_083636.jpg -> IMG_20161101_083636.jpg\n",
      "Renamed: 20161101_083639.jpg -> IMG_20161101_083639.jpg\n",
      "Renamed: 20161101_083642.jpg -> IMG_20161101_083642.jpg\n"
     ]
    }
   ],
   "source": [
    "from PIL import Image\n",
    "from PIL.ExifTags import TAGS\n",
    "import os\n",
    "from datetime import datetime\n",
    "\n",
    "def get_image_date(image_path):\n",
    "    \"\"\"Extracts the date the image was taken from EXIF metadata.\"\"\"\n",
    "    try:\n",
    "        with Image.open(image_path) as img:\n",
    "            exif_data = img._getexif()\n",
    "            if exif_data:\n",
    "                for tag, value in exif_data.items():\n",
    "                    tag_name = TAGS.get(tag, tag)\n",
    "                    if tag_name == \"DateTime\":  # Image creation date\n",
    "                        return value\n",
    "    except Exception as e:\n",
    "        print(f\"Error reading {image_path}: {e}\")\n",
    "    return None\n",
    "\n",
    "def format_date(date_string):\n",
    "    \"\"\"Formats the date as IMG_[YYYY][MM][DD]_[HH][MM][SS].\"\"\"\n",
    "    try:\n",
    "        dt = datetime.strptime(date_string, \"%Y:%m:%d %H:%M:%S\")\n",
    "        return dt.strftime(\"IMG_%Y%m%d_%H%M%S\")\n",
    "    except ValueError:\n",
    "        return None\n",
    "\n",
    "def rename_images(directory):\n",
    "    \"\"\"Renames images in a directory based on their capture date.\"\"\"\n",
    "    valid_extensions = ('.jpg', '.jpeg', '.png', '.tiff', '.heic')\n",
    "    \n",
    "    for filename in os.listdir(directory):\n",
    "        if filename.lower().endswith(valid_extensions):\n",
    "            image_path = os.path.join(directory, filename)\n",
    "            date_created = get_image_date(image_path)\n",
    "            \n",
    "            if date_created:\n",
    "                formatted_date = format_date(date_created)\n",
    "                if formatted_date:\n",
    "                    new_filename = formatted_date + os.path.splitext(filename)[1]\n",
    "                    new_path = os.path.join(directory, new_filename)\n",
    "                    os.rename(image_path, new_path)\n",
    "                    print(f\"Renamed: {filename} -> {new_filename}\")\n",
    "                else:\n",
    "                    print(f\"Skipping {filename}: Invalid date format\")\n",
    "            else:\n",
    "                print(f\"Skipping {filename}: No date found\")\n",
    "\n",
    "if __name__ == \"__main__\":\n",
    "    if os.path.exists(directory):\n",
    "        rename_images(directory)\n",
    "    else:\n",
    "        print(\"Invalid directory!\")\n"
   ]
  },
  {
   "cell_type": "code",
   "execution_count": null,
   "metadata": {},
   "outputs": [],
   "source": []
  }
 ],
 "metadata": {
  "kernelspec": {
   "display_name": "Python 3",
   "language": "python",
   "name": "python3"
  },
  "language_info": {
   "codemirror_mode": {
    "name": "ipython",
    "version": 3
   },
   "file_extension": ".py",
   "mimetype": "text/x-python",
   "name": "python",
   "nbconvert_exporter": "python",
   "pygments_lexer": "ipython3",
   "version": "3.13.1"
  }
 },
 "nbformat": 4,
 "nbformat_minor": 2
}
