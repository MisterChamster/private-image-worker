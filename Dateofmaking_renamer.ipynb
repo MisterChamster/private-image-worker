{
 "cells": [
  {
   "cell_type": "code",
   "execution_count": 37,
   "metadata": {},
   "outputs": [],
   "source": [
    "from PIL import Image\n",
    "from PIL.ExifTags import TAGS\n",
    "import os\n",
    "from datetime import datetime\n",
    "from pillow_heif import register_heif_opener\n",
    "register_heif_opener()\n",
    "\n",
    "\n",
    "def get_image_date(image_path):\n",
    "    \"\"\"Extracts a date of picture creation from EXIF metadata.\"\"\"\n",
    "    try:\n",
    "        with Image.open(image_path) as img:\n",
    "            exif_data = img._getexif()\n",
    "            if exif_data:\n",
    "                for tag, value in exif_data.items():\n",
    "                    tag_name = TAGS.get(tag, tag)\n",
    "                    if tag_name == \"DateTime\":\n",
    "                        return value\n",
    "    except Exception as e:\n",
    "        print(f\"Error reading {image_path}: {e}\")\n",
    "    return \"No date :-(\"\n",
    "\n",
    "\n",
    "def format_date(date_string):\n",
    "    \"\"\"Formats the date as IMG_[YYYY][MM][DD]_[HH][MM][SS].\"\"\"\n",
    "    try:\n",
    "        dt = datetime.strptime(date_string, \"%Y:%m:%d %H:%M:%S\")\n",
    "        return dt.strftime(\"IMG_%Y%m%d_%H%M%S\")\n",
    "    except ValueError:\n",
    "        return \"Incorrect date\"\n",
    "\n",
    "\n",
    "def list_images_with_dates(directory):\n",
    "    \"\"\"Lists all imagesin dir with their creation dates in IMG_[Y][M][D]_[H][M][S] format.\"\"\"\n",
    "    normal_extensions = ('.jpg', '.jpeg', '.png', '.tiff')\n",
    "    \n",
    "    for filename in os.listdir(directory):\n",
    "        if filename.lower().endswith(normal_extensions):\n",
    "            image_path = os.path.join(directory, filename)\n",
    "            date_created = get_image_date(image_path)\n",
    "            formatted_date = format_date(date_created) if date_created != \"No date :-(\" else date_created\n",
    "            print(f\"{filename}: {formatted_date}\")\n",
    "        elif filename.lower().endswith(\".heic\"):\n",
    "            image_path = os.path.join(directory, filename)\n",
    "            img = Image.open(image_path)\n",
    "            exif_data = img.getexif()\n",
    "            for tag, value in exif_data.items():\n",
    "                if tag == 306:\n",
    "                    # print(value)\n",
    "                    print(format_date(value))\n",
    "            # print(f\"HEIC!!: {image_path}\")\n",
    "\n",
    "def rename_images(directory):\n",
    "    \"\"\"Renames images in a directory based on their capture date.\"\"\"\n",
    "    normal_extensions = ('.jpg', '.jpeg', '.png', '.tiff')\n",
    "    \n",
    "    for filename in os.listdir(directory):\n",
    "        if filename.lower().endswith(normal_extensions):\n",
    "            image_path = os.path.join(directory, filename)\n",
    "            date_created = get_image_date(image_path)\n",
    "            \n",
    "            formatted_date = format_date(date_created)\n",
    "            new_filename = formatted_date + os.path.splitext(filename)[1]\n",
    "            new_path = os.path.join(directory, new_filename)\n",
    "            os.rename(image_path, new_path)\n",
    "            print(f\"Renamed: {filename} -> {new_filename}\")\n",
    "\n",
    "        elif filename.lower().endswith(\".heic\"):\n",
    "            image_path = os.path.join(directory, filename)\n",
    "            img = Image.open(image_path)\n",
    "            exif_data = img.getexif()\n",
    "            for tag, value in exif_data.items():\n",
    "                if tag == 306:\n",
    "                    print(value)\n",
    "                    formatted_date = format_date(value)\n",
    "                    new_filename = formatted_date + os.path.splitext(filename)[1]\n",
    "                    new_path = os.path.join(directory, new_filename)\n",
    "                    os.rename(image_path, new_path)\n",
    "                    print(f\"Renamed: {filename} -> {new_filename}\")\n"
   ]
  },
  {
   "cell_type": "code",
   "execution_count": 38,
   "metadata": {},
   "outputs": [],
   "source": [
    "directory = r\"/Users/chamster/Desktop/cadia\""
   ]
  },
  {
   "cell_type": "code",
   "execution_count": 39,
   "metadata": {},
   "outputs": [
    {
     "name": "stdout",
     "output_type": "stream",
     "text": [
      "2025:02:26 11:13:47\n",
      "Renamed: Incorrect date.HEIC -> IMG_20250226_111347.HEIC\n"
     ]
    }
   ],
   "source": [
    "# if os.path.exists(directory):\n",
    "#     list_images_with_dates(directory)\n",
    "# else:\n",
    "#     print(\"Invalid directory!\")\n",
    "\n",
    "\n",
    "if os.path.exists(directory):\n",
    "    rename_images(directory)\n",
    "else:\n",
    "    print(\"Invalid directory!\")"
   ]
  }
 ],
 "metadata": {
  "kernelspec": {
   "display_name": "Python 3",
   "language": "python",
   "name": "python3"
  },
  "language_info": {
   "codemirror_mode": {
    "name": "ipython",
    "version": 3
   },
   "file_extension": ".py",
   "mimetype": "text/x-python",
   "name": "python",
   "nbconvert_exporter": "python",
   "pygments_lexer": "ipython3",
   "version": "3.13.2"
  }
 },
 "nbformat": 4,
 "nbformat_minor": 2
}
