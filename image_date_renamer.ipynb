{
 "cells": [
  {
   "cell_type": "code",
   "execution_count": 14,
   "metadata": {},
   "outputs": [],
   "source": [
    "directory = r\"c:\\Users\\root\\Desktop\\000LAPEK\\uploads\""
   ]
  },
  {
   "cell_type": "code",
   "execution_count": null,
   "metadata": {},
   "outputs": [],
   "source": [
    "from PIL import Image\n",
    "from PIL.ExifTags import TAGS\n",
    "import os\n",
    "from datetime import datetime\n",
    "import pillow_heif\n",
    "pillow_heif.register_heif_opener()\n",
    "\n",
    "\n",
    "def get_image_date(image_path):\n",
    "    \"\"\"Extracts the date the image was taken from EXIF metadata.\"\"\"\n",
    "    try:\n",
    "        with Image.open(image_path) as img:\n",
    "            exif_data = img.getexif()\n",
    "\n",
    "            # creation_time = os.path.getctime(image_path)\n",
    "            # print(creation_time)\n",
    "            # dt = datetime.fromtimestamp(creation_time)\n",
    "            # return str(dt)\n",
    "\n",
    "            if exif_data:\n",
    "                tag_dict = {TAGS.get(tag, tag): value for tag, value in exif_data.items()}\n",
    "                # Try to return the most reliable tag\n",
    "                return (\n",
    "                    #COME BACK HERE IF SOMETHING DOES NOT WORK\n",
    "                    # tag_dict.get(\"DateTimeOriginal\") or\n",
    "                    tag_dict.get(\"DateTimeDigitized\") or\n",
    "                    tag_dict.get(\"DateTime\") or\n",
    "                    \"No date\"\n",
    "                )\n",
    "    except Exception as e:\n",
    "        print(f\"Error reading {image_path}: {e}\")\n",
    "    return \"No date\"\n",
    "\n",
    "def format_date(date_string):\n",
    "    \"\"\"Formats the date as IMG_[Y][M][D]_[H][M][S].\"\"\"\n",
    "    try:\n",
    "        dt = datetime.strptime(date_string, \"%Y:%m:%d %H:%M:%S\")\n",
    "        return dt.strftime(\"IMG_%Y%m%d_%H%M%S\")\n",
    "    except ValueError:\n",
    "        return \"Invalid date\""
   ]
  },
  {
   "cell_type": "code",
   "execution_count": null,
   "metadata": {},
   "outputs": [],
   "source": [
    "def list_images_with_dates(directory):\n",
    "    \"\"\"Lists all images in the directory with their capture dates in the format IMG_[Y][M][D]_[H][M][S].\"\"\"\n",
    "    valid_extensions = ('.jpg', '.jpeg', '.png', '.tiff', '.heic')\n",
    "    \n",
    "    for filename in os.listdir(directory):\n",
    "        if filename.lower().endswith(valid_extensions):\n",
    "            image_path = os.path.join(directory, filename)\n",
    "            date_created = get_image_date(image_path)\n",
    "            formatted_date = format_date(date_created) if date_created != \"No date\" else date_created\n",
    "            print(f\"{filename}: {formatted_date}\")\n",
    "\n",
    "if os.path.exists(directory):\n",
    "    list_images_with_dates(directory)\n",
    "else:\n",
    "    print(\"Invalid directory!\")\n"
   ]
  },
  {
   "cell_type": "code",
   "execution_count": null,
   "metadata": {},
   "outputs": [],
   "source": [
    "def rename_images(directory):\n",
    "    \"\"\"Renames images in a directory based on their capture date.\"\"\"\n",
    "    valid_extensions = ('.jpg', '.jpeg', '.png', '.tiff', '.heic')\n",
    "    \n",
    "    for filename in os.listdir(directory):\n",
    "        if filename.lower().endswith(valid_extensions):\n",
    "            image_path = os.path.join(directory, filename)\n",
    "            date_created = get_image_date(image_path)\n",
    "            \n",
    "            if date_created:\n",
    "                formatted_date = format_date(date_created)\n",
    "                if formatted_date:\n",
    "                    new_filename = formatted_date + os.path.splitext(filename)[1]\n",
    "                    for i in range(1, 100):\n",
    "                        try:\n",
    "                            new_path = os.path.join(directory, new_filename)\n",
    "                            # print(f\"Image: {image_path} -> New Path: {new_path}\")\n",
    "                            os.rename(image_path, new_path)\n",
    "                            print(f\"Renamed: {filename} -> {new_filename}\")\n",
    "                            break\n",
    "                        except FileExistsError:\n",
    "                            print(f\"File {new_filename} already exists, trying with a number suffix.\")\n",
    "                            new_filename = new_filename.split('.')[0] + f\"_{i}.\" + new_filename.split('.')[-1]\n",
    "                            continue\n",
    "\n",
    "                else:\n",
    "                    print(f\"Skipping {filename}: Invalid date format\")\n",
    "            else:\n",
    "                print(f\"Skipping {filename}: No date found\")\n",
    "\n",
    "if os.path.exists(directory):\n",
    "    rename_images(directory)\n",
    "else:\n",
    "    print(\"Invalid directory!\")\n"
   ]
  }
 ],
 "metadata": {
  "kernelspec": {
   "display_name": "Python 3",
   "language": "python",
   "name": "python3"
  },
  "language_info": {
   "codemirror_mode": {
    "name": "ipython",
    "version": 3
   },
   "file_extension": ".py",
   "mimetype": "text/x-python",
   "name": "python",
   "nbconvert_exporter": "python",
   "pygments_lexer": "ipython3",
   "version": "3.13.5"
  }
 },
 "nbformat": 4,
 "nbformat_minor": 2
}
