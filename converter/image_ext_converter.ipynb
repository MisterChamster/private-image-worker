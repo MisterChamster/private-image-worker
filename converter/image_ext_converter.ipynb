{
 "cells": [
  {
   "cell_type": "code",
   "execution_count": 6,
   "metadata": {},
   "outputs": [],
   "source": [
    "import os\n",
    "from PIL import Image\n",
    "import pillow_heif"
   ]
  },
  {
   "cell_type": "code",
   "execution_count": 7,
   "metadata": {},
   "outputs": [],
   "source": [
    "directory = r\"c:\\Users\\root\\Desktop\\helo\"\n",
    "os.chdir(directory)"
   ]
  },
  {
   "cell_type": "code",
   "execution_count": null,
   "metadata": {},
   "outputs": [
    {
     "name": "stdout",
     "output_type": "stream",
     "text": [
      "Converting: c:\\Users\\root\\Desktop\\helo2\\IMG_7384.HEIC\n",
      "Converting: c:\\Users\\root\\Desktop\\helo2\\IMG_7418.HEIC\n",
      "Converting: c:\\Users\\root\\Desktop\\helo2\\IMG_7434.HEIC\n"
     ]
    }
   ],
   "source": [
    "# heic to png no deletion\n",
    "for filename in os.listdir(directory):\n",
    "     # check if the file is in HEIC format\n",
    "    if filename.lower().endswith(\".heic\"):\n",
    "        # create an Image object from the HEIC file\n",
    "        filepath = os.path.join(directory, filename)\n",
    "        print(\"Converting:\", filename)\n",
    "        heif_file = pillow_heif.read_heif(filepath)\n",
    "        image = Image.frombytes(\n",
    "            heif_file.mode,\n",
    "            heif_file.size,\n",
    "            heif_file.data,\n",
    "            \"raw\",\n",
    "        )\n",
    "\n",
    "        # create a new filename for the PNG file\n",
    "        new_filename = os.path.splitext(filename)[0] + \".png\"\n",
    "        new_filepath = os.path.join(directory, new_filename)\n",
    "\n",
    "        image.save(new_filepath, format(\"png\"))"
   ]
  },
  {
   "cell_type": "code",
   "execution_count": null,
   "metadata": {},
   "outputs": [
    {
     "name": "stdout",
     "output_type": "stream",
     "text": [
      "Converting: c:\\Users\\root\\Desktop\\helo\\IMG_7488.HEIC\n",
      "Converting: c:\\Users\\root\\Desktop\\helo\\IMG_7489.HEIC\n",
      "Converting: c:\\Users\\root\\Desktop\\helo\\IMG_7490.HEIC\n",
      "Converting: c:\\Users\\root\\Desktop\\helo\\IMG_7491.HEIC\n"
     ]
    }
   ],
   "source": [
    "# heic to png deletion\n",
    "for filename in os.listdir(directory):\n",
    "     # check if the file is in HEIC format\n",
    "    if filename.lower().endswith(\".heic\"):\n",
    "        # create an Image object from the HEIC file\n",
    "        filepath = os.path.join(directory, filename)\n",
    "        print(\"Converting:\", filename)\n",
    "        heif_file = pillow_heif.read_heif(filepath)\n",
    "        image = Image.frombytes(\n",
    "            heif_file.mode,\n",
    "            heif_file.size,\n",
    "            heif_file.data,\n",
    "            \"raw\",\n",
    "        )\n",
    "\n",
    "        # create a new filename for the PNG file\n",
    "        new_filename = os.path.splitext(filename)[0] + \".png\"\n",
    "        new_filepath = os.path.join(directory, new_filename)\n",
    "        try:\n",
    "            os.remove(filename)\n",
    "        except:\n",
    "            print(\"Couldn't remove \" + filename)\n",
    "\n",
    "        image.save(new_filepath, format(\"png\"))"
   ]
  },
  {
   "cell_type": "code",
   "execution_count": 9,
   "metadata": {},
   "outputs": [
    {
     "name": "stdout",
     "output_type": "stream",
     "text": [
      "Converting: IMG_7488.png\n",
      "Converting: IMG_7489.png\n",
      "Converting: IMG_7490.png\n",
      "Converting: IMG_7491.png\n"
     ]
    }
   ],
   "source": [
    "# png to jpg no deletion\n",
    "for filename in os.listdir(directory):\n",
    "    if filename.lower().endswith(\".png\"):\n",
    "        png_image = Image.open(filename)\n",
    "        print(\"Converting:\", filename)\n",
    "        rgb_image = png_image.convert(\"RGB\")\n",
    "        new_filename = os.path.splitext(filename)[0] + \".jpg\"\n",
    "        rgb_image.save(new_filename, \"JPEG\")"
   ]
  },
  {
   "cell_type": "code",
   "execution_count": 10,
   "metadata": {},
   "outputs": [
    {
     "name": "stdout",
     "output_type": "stream",
     "text": [
      "Converting: IMG_7488.png\n",
      "Converting: IMG_7489.png\n",
      "Converting: IMG_7490.png\n",
      "Converting: IMG_7491.png\n"
     ]
    }
   ],
   "source": [
    "# png to jpg deletion\n",
    "for filename in os.listdir(directory):\n",
    "    if filename.lower().endswith(\".png\"):\n",
    "        png_image = Image.open(filename)\n",
    "        print(\"Converting:\", filename)\n",
    "        rgb_image = png_image.convert(\"RGB\")\n",
    "        new_filename = os.path.splitext(filename)[0] + \".jpg\"\n",
    "        rgb_image.save(new_filename, \"JPEG\")\n",
    "\n",
    "        try:\n",
    "            os.remove(filename)\n",
    "        except:\n",
    "            print(\"Couldn't remove \" + filename)"
   ]
  }
 ],
 "metadata": {
  "kernelspec": {
   "display_name": "Python 3",
   "language": "python",
   "name": "python3"
  },
  "language_info": {
   "codemirror_mode": {
    "name": "ipython",
    "version": 3
   },
   "file_extension": ".py",
   "mimetype": "text/x-python",
   "name": "python",
   "nbconvert_exporter": "python",
   "pygments_lexer": "ipython3",
   "version": "3.13.1"
  }
 },
 "nbformat": 4,
 "nbformat_minor": 2
}
